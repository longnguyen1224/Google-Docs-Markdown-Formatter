{
  "nbformat": 4,
  "nbformat_minor": 0,
  "metadata": {
    "colab": {
      "provenance": [],
      "gpuType": "T4",
      "authorship_tag": "ABX9TyNADEXim9FeeBv84LYPlOvR",
      "include_colab_link": true
    },
    "kernelspec": {
      "name": "python3",
      "display_name": "Python 3"
    },
    "language_info": {
      "name": "python"
    },
    "accelerator": "GPU"
  },
  "cells": [
    {
      "cell_type": "markdown",
      "metadata": {
        "id": "view-in-github",
        "colab_type": "text"
      },
      "source": [
        "<a href=\"https://colab.research.google.com/github/longnguyen1224/Google-Docs-Markdown-Formatter/blob/main/Software_Engineer_Assessment_Task_Ansible_Health.ipynb\" target=\"_parent\"><img src=\"https://colab.research.google.com/assets/colab-badge.svg\" alt=\"Open In Colab\"/></a>"
      ]
    },
    {
      "cell_type": "markdown",
      "source": [],
      "metadata": {
        "id": "oFGE3f45Gbys"
      }
    },
    {
      "cell_type": "markdown",
      "source": [
        "Import library\n"
      ],
      "metadata": {
        "id": "BiPj6B3TGjUD"
      }
    },
    {
      "cell_type": "code",
      "source": [
        "import re\n",
        "import markdown\n",
        "from google.colab import auth\n",
        "from googleapiclient.discovery import build\n",
        "from google.auth import default"
      ],
      "metadata": {
        "id": "d-wwsu6BGnFX"
      },
      "execution_count": 17,
      "outputs": []
    },
    {
      "cell_type": "markdown",
      "source": [
        "Authenticate and Set up Goole Docs API"
      ],
      "metadata": {
        "id": "jOfSCLJDGovi"
      }
    },
    {
      "cell_type": "code",
      "source": [
        "def authenticate_google():\n",
        "    \"\"\"Authenticate with Google APIs in Colab, handling potential errors.\"\"\"\n",
        "    try:\n",
        "        auth.authenticate_user()\n",
        "        creds, _ = default()\n",
        "        return build(\"docs\", \"v1\", credentials=creds)\n",
        "    except Exception as e:\n",
        "        print(f\"Error during authentication: {e}\")\n",
        "        return None"
      ],
      "metadata": {
        "id": "-EvQNdNHGsaU"
      },
      "execution_count": 18,
      "outputs": []
    },
    {
      "cell_type": "code",
      "source": [
        "def create_google_doc(service, title):\n",
        "    \"\"\"Create a new Google Doc and return its ID, handling API errors.\"\"\"\n",
        "    try:\n",
        "        doc = service.documents().create(body={\"title\": title}).execute()\n",
        "        return doc[\"documentId\"]\n",
        "    except Exception as e:\n",
        "        print(f\"Error creating Google Doc: {e}\")\n",
        "        return None"
      ],
      "metadata": {
        "id": "PP7cXz7dJHLg"
      },
      "execution_count": 19,
      "outputs": []
    },
    {
      "cell_type": "markdown",
      "source": [
        "Convert to google docs"
      ],
      "metadata": {
        "id": "CNK8ZWozLn5X"
      }
    },
    {
      "cell_type": "code",
      "source": [
        "# Convert Markdown meeting notes into a well-formatted Google Doc, handling API errors.\n",
        "def convert_markdown_to_google_docs(service, doc_id, markdown_text):\n",
        "    \"\"\"Convert Markdown meeting notes into a well-formatted Google Doc.\"\"\"\n",
        "    try:\n",
        "      lines = markdown_text.split(\"\\n\")\n",
        "      requests = []\n",
        "\n",
        "      # Track current document length dynamically\n",
        "      current_index = 1\n",
        "\n",
        "      for line in lines:\n",
        "          line = line.strip()\n",
        "\n",
        "          # Convert main title to Heading 1\n",
        "          if line.startswith(\"# \"):\n",
        "              text = line[2:] + \"\\n\"\n",
        "              requests.append({\"insertText\": {\"location\": {\"index\": current_index}, \"text\": text}})\n",
        "              current_index += len(text)  # Update position after insertion\n",
        "              requests.append({\n",
        "                  \"updateParagraphStyle\": {\n",
        "                      \"range\": {\"startIndex\": current_index - len(text), \"endIndex\": current_index},\n",
        "                      \"paragraphStyle\": {\"namedStyleType\": \"HEADING_1\"},\n",
        "                      \"fields\": \"namedStyleType\"\n",
        "                  }\n",
        "              })\n",
        "          # Convert section headers to Heading 2\n",
        "          elif line.startswith(\"## \"):\n",
        "              text = line[3:] + \"\\n\"\n",
        "              requests.append({\"insertText\": {\"location\": {\"index\": current_index}, \"text\": text}})\n",
        "              current_index += len(text)\n",
        "              requests.append({\n",
        "                  \"updateParagraphStyle\": {\n",
        "                      \"range\": {\"startIndex\": current_index - len(text), \"endIndex\": current_index},\n",
        "                      \"paragraphStyle\": {\"namedStyleType\": \"HEADING_2\"},\n",
        "                      \"fields\": \"namedStyleType\"\n",
        "                  }\n",
        "              })\n",
        "          # Convert sub-section headers to Heading 3\n",
        "          elif line.startswith(\"### \"):\n",
        "              text = line[4:] + \"\\n\"\n",
        "              requests.append({\"insertText\": {\"location\": {\"index\": current_index}, \"text\": text}})\n",
        "              current_index += len(text)\n",
        "              requests.append({\n",
        "                  \"updateParagraphStyle\": {\n",
        "                      \"range\": {\"startIndex\": current_index - len(text), \"endIndex\": current_index},\n",
        "                      \"paragraphStyle\": {\"namedStyleType\": \"HEADING_3\"},\n",
        "                      \"fields\": \"namedStyleType\"\n",
        "                  }\n",
        "              })\n",
        "           # Convert markdown checkboxes to Google Docs checkboxes\n",
        "          elif line.startswith(\"- [ ] \"):\n",
        "              text = \"☐ \" + line[6:] + \"\\n\"\n",
        "              requests.append({\"insertText\": {\"location\": {\"index\": current_index}, \"text\": text}})\n",
        "              current_index += len(text)\n",
        "          # Highlight mentions (@name)\n",
        "          elif re.search(r\"@\\w+\", line):\n",
        "              text = line + \"\\n\"\n",
        "              requests.append({\"insertText\": {\"location\": {\"index\": current_index}, \"text\": text}})\n",
        "              current_index += len(text)\n",
        "          elif line:\n",
        "              text = line + \"\\n\"\n",
        "              requests.append({\"insertText\": {\"location\": {\"index\": current_index}, \"text\": text}})\n",
        "              current_index += len(text)\n",
        "\n",
        "      # Apply all changes at once\n",
        "      service.documents().batchUpdate(documentId=doc_id, body={\"requests\": requests}).execute()\n",
        "      print(\"Google Doc successfully created and formatted.\")\n",
        "    except Exception as e:\n",
        "      print(f\"Error updating Google Doc: {e}\")\n"
      ],
      "metadata": {
        "id": "m-evPUfbJJvZ"
      },
      "execution_count": 33,
      "outputs": []
    },
    {
      "cell_type": "code",
      "source": [
        "if __name__ == \"__main__\":\n",
        "    markdown_notes = \"\"\"# Product Team Sync - May 15, 2023\n",
        "    ## Attendees\n",
        "    - Sarah Chen (Product Lead)\n",
        "    - Mike Johnson (Engineering)\n",
        "    - Anna Smith (Design)\n",
        "    - David Park (QA)\n",
        "\n",
        "    ## Agenda\n",
        "    ### 1. Sprint Review\n",
        "    * Completed Features\n",
        "      * User authentication flow\n",
        "      * Dashboard redesign\n",
        "      * Performance optimization\n",
        "        * Reduced load time by 40%\n",
        "        * Implemented caching solution\n",
        "    * Pending Items\n",
        "      * Mobile responsive fixes\n",
        "      * Beta testing feedback integration\n",
        "\n",
        "    ### 2. Current Challenges\n",
        "    * Resource constraints in QA team\n",
        "    * Third-party API integration delays\n",
        "    * User feedback on new UI\n",
        "      * Navigation confusion\n",
        "      * Color contrast issues\n",
        "\n",
        "    ### 3. Next Sprint Planning\n",
        "    * Priority Features\n",
        "      * Payment gateway integration\n",
        "      * User profile enhancement\n",
        "      * Analytics dashboard\n",
        "    * Technical Debt\n",
        "      * Code refactoring\n",
        "      * Documentation updates\n",
        "\n",
        "    ## Action Items\n",
        "    - [ ] @sarah: Finalize Q3 roadmap by Friday\n",
        "    - [ ] @mike: Schedule technical review for payment integration\n",
        "    - [ ] @anna: Share updated design system documentation\n",
        "    - [ ] @david: Prepare QA resource allocation proposal\n",
        "\n",
        "    ## Next Steps\n",
        "    * Schedule individual team reviews\n",
        "    * Update sprint board\n",
        "    * Share meeting summary with stakeholders\n",
        "\n",
        "    ## Notes\n",
        "    * Next sync scheduled for May 22, 2023\n",
        "    * Platform demo for stakeholders on May 25\n",
        "    * Remember to update JIRA tickets\n",
        "\n",
        "    ---\n",
        "    **Meeting recorded by:** Sarah Chen\n",
        "    **Duration:** 45 minutes\"\"\"\n",
        "\n",
        "    service = authenticate_google()\n",
        "    if service:\n",
        "        doc_id = create_google_doc(service, \"Product Team Sync Notes\")\n",
        "        if doc_id:\n",
        "            convert_markdown_to_google_docs(service, doc_id, markdown_notes)\n"
      ],
      "metadata": {
        "colab": {
          "base_uri": "https://localhost:8080/"
        },
        "id": "VHASW2jHJLhV",
        "outputId": "1551d4a7-465e-40d1-80dc-6163876d9516"
      },
      "execution_count": 34,
      "outputs": [
        {
          "output_type": "stream",
          "name": "stdout",
          "text": [
            "Google Doc successfully created and formatted.\n"
          ]
        }
      ]
    }
  ]
}